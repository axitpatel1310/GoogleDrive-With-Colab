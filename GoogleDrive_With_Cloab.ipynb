{
  "nbformat": 4,
  "nbformat_minor": 0,
  "metadata": {
    "colab": {
      "provenance": [],
      "toc_visible": true,
      "authorship_tag": "ABX9TyMDAb49yptI/hAqQk7OG4eE",
      "include_colab_link": true
    },
    "kernelspec": {
      "name": "python3",
      "display_name": "Python 3"
    },
    "language_info": {
      "name": "python"
    }
  },
  "cells": [
    {
      "cell_type": "markdown",
      "metadata": {
        "id": "view-in-github",
        "colab_type": "text"
      },
      "source": [
        "<a href=\"https://colab.research.google.com/github/axitpatel1310/GoogleDrive-With-Colab/blob/main/GoogleDrive_With_Cloab.ipynb\" target=\"_parent\"><img src=\"https://colab.research.google.com/assets/colab-badge.svg\" alt=\"Open In Colab\"/></a>"
      ]
    },
    {
      "cell_type": "code",
      "execution_count": null,
      "metadata": {
        "id": "U4gLt-t-syzS"
      },
      "outputs": [],
      "source": [
        "from google.colab import drive"
      ]
    },
    {
      "cell_type": "code",
      "source": [
        "drive.mount('/content/drive')"
      ],
      "metadata": {
        "id": "Ym_4t48bvBKO"
      },
      "execution_count": null,
      "outputs": []
    },
    {
      "cell_type": "code",
      "source": [
        "import os"
      ],
      "metadata": {
        "id": "AzlCK21swZ_1"
      },
      "execution_count": null,
      "outputs": []
    },
    {
      "cell_type": "code",
      "source": [
        "folder_path = '/content/drive/MyDrive/CASHSKOOL/Amazon'"
      ],
      "metadata": {
        "id": "ZjQv3VQ2wdNJ"
      },
      "execution_count": null,
      "outputs": []
    },
    {
      "cell_type": "code",
      "source": [
        "file_names = os.listdir(folder_path)"
      ],
      "metadata": {
        "id": "QtZcKwsCwjXo"
      },
      "execution_count": null,
      "outputs": []
    },
    {
      "cell_type": "code",
      "source": [
        "for file_name in file_names:\n",
        "    print(file_name)"
      ],
      "metadata": {
        "id": "aUITp79fwm8T"
      },
      "execution_count": null,
      "outputs": []
    },
    {
      "cell_type": "code",
      "source": [
        "video_extensions = ('.mp4', '.mov', '.avi')\n",
        "for file_name in file_names:\n",
        "    if file_name.endswith(video_extensions):\n",
        "        print(file_name)"
      ],
      "metadata": {
        "id": "J61uBMcFw1fj"
      },
      "execution_count": null,
      "outputs": []
    }
  ]
}